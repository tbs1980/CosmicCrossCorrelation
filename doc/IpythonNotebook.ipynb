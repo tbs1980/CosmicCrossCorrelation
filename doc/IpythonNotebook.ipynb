{
 "metadata": {
  "name": "",
  "signature": "sha256:8c21446df4ec38b4749795ecb35d85bc45a5a290dba2a113904f3565ce10bc3d"
 },
 "nbformat": 3,
 "nbformat_minor": 0,
 "worksheets": [
  {
   "cells": [
    {
     "cell_type": "markdown",
     "metadata": {},
     "source": [
      "# Documentation for  cosmic-corss-correlation project"
     ]
    },
    {
     "cell_type": "markdown",
     "metadata": {},
     "source": [
      "Ipython Notebook [IPython Notebook](http://ipython.org/notebook.html )  is very useful for sharing python scripts as well as providing documentation with maths / formula. \n",
      "\n",
      "## Where can I find tutorials?\n",
      "\n",
      "* [A useful video](http://ipython.org/notebook.html )\n",
      "* [Example Collection](http://nbviewer.ipython.org/github/ipython/ipython/blob/2.x/examples/Notebook/Index.ipynb )\n",
      "\n"
     ]
    },
    {
     "cell_type": "markdown",
     "metadata": {},
     "source": [
      "# Maths example\n",
      "\n",
      "Basically everything you put in `$` sign will be parsed as latex. See [Maths-Exampe](http://nbviewer.ipython.org/github/ipython/ipython/blob/2.x/examples/Notebook/Typesetting%20Math%20Using%20MathJax.ipynb ) for a start.\n",
      "\n",
      "$ \\begin{align} \\dot{x} & = \\sigma(y-x) \\\\ \\dot{y} & = \\rho x - y - xz \\\\ \\dot{z} & = -\\beta z + xy \\end{align} $"
     ]
    },
    {
     "cell_type": "markdown",
     "metadata": {},
     "source": [
      "# Code example"
     ]
    },
    {
     "cell_type": "code",
     "collapsed": false,
     "input": [
      "x=2"
     ],
     "language": "python",
     "metadata": {},
     "outputs": [],
     "prompt_number": 1
    },
    {
     "cell_type": "code",
     "collapsed": false,
     "input": [
      "y=2"
     ],
     "language": "python",
     "metadata": {},
     "outputs": [],
     "prompt_number": 2
    },
    {
     "cell_type": "code",
     "collapsed": false,
     "input": [
      "x+y"
     ],
     "language": "python",
     "metadata": {},
     "outputs": [
      {
       "metadata": {},
       "output_type": "pyout",
       "prompt_number": 3,
       "text": [
        "4"
       ]
      }
     ],
     "prompt_number": 3
    },
    {
     "cell_type": "code",
     "collapsed": false,
     "input": [],
     "language": "python",
     "metadata": {},
     "outputs": []
    }
   ],
   "metadata": {}
  }
 ]
}