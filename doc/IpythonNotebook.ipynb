{
 "metadata": {
  "name": "",
  "signature": "sha256:12855fb4979159bd422e0b91de518fa456254838d09b1ab4fcdd1490f7e58ea1"
 },
 "nbformat": 3,
 "nbformat_minor": 0,
 "worksheets": [
  {
   "cells": [
    {
     "cell_type": "markdown",
     "metadata": {},
     "source": [
      "# Documentation for  cosmic-corss-correlation project"
     ]
    },
    {
     "cell_type": "markdown",
     "metadata": {},
     "source": [
      "Ipython Notebook [IPython Notebook](http://ipython.org/notebook.html )  is very useful for sharing python scripts as well as providing documentation with maths / formula. \n",
      "\n",
      "## Where can I find tutorials?\n",
      "\n",
      "* [A useful video](http://ipython.org/notebook.html )\n",
      "* [Example Collection](http://nbviewer.ipython.org/github/ipython/ipython/blob/2.x/examples/Notebook/Index.ipynb )\n",
      "\n"
     ]
    },
    {
     "cell_type": "code",
     "collapsed": false,
     "input": [],
     "language": "python",
     "metadata": {},
     "outputs": []
    }
   ],
   "metadata": {}
  }
 ]
}