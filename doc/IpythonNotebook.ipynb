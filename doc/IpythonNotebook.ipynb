{
 "metadata": {
  "name": "",
  "signature": "sha256:b0303534794bc280109672b7ca4b3170a2194f3a4c4fc77174fca4592331c56e"
 },
 "nbformat": 3,
 "nbformat_minor": 0,
 "worksheets": [
  {
   "cells": [
    {
     "cell_type": "markdown",
     "metadata": {},
     "source": [
      "# Documentation for  cosmic-corss-correlation project"
     ]
    },
    {
     "cell_type": "markdown",
     "metadata": {},
     "source": [
      "Ipython Notebook [IPython Notebook](http://ipython.org/notebook.html )  is very useful for sharing python scripts as well as providing documentation with maths / formula. \n",
      "\n",
      "## Where can I find tutorials?\n",
      "\n",
      "* [A useful video](http://ipython.org/notebook.html )\n",
      "* [Example Collection](http://nbviewer.ipython.org/github/ipython/ipython/blob/2.x/examples/Notebook/Index.ipynb )\n",
      "\n"
     ]
    },
    {
     "cell_type": "markdown",
     "metadata": {},
     "source": [
      "# Maths example\n",
      "\n",
      "Basically everything you put in `$` sign will be parsed as latex. See [Maths-Exampe](http://nbviewer.ipython.org/github/ipython/ipython/blob/2.x/examples/Notebook/Typesetting%20Math%20Using%20MathJax.ipynb ) for a start.\n",
      "\n",
      "$ \\begin{align} \\dot{x} & = \\sigma(y-x) \\\\ \\dot{y} & = \\rho x - y - xz \\\\ \\dot{z} & = -\\beta z + xy \\end{align} $"
     ]
    },
    {
     "cell_type": "code",
     "collapsed": false,
     "input": [],
     "language": "python",
     "metadata": {},
     "outputs": []
    }
   ],
   "metadata": {}
  }
 ]
}