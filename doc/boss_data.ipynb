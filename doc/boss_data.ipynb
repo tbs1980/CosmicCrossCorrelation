{
 "metadata": {
  "name": ""
 },
 "nbformat": 3,
 "nbformat_minor": 0,
 "worksheets": [
  {
   "cells": [
    {
     "cell_type": "markdown",
     "metadata": {},
     "source": [
      "# A) Input"
     ]
    },
    {
     "cell_type": "markdown",
     "metadata": {},
     "source": [
      "## A.1) BOSS DR10 data\n",
      "\n",
      "For this preliminary cross-correlation exercise, we will be working with BOSS DR10 data. The catalogs, weights and masks used can be found at the [BOSS LSS DR10 data page](http://data.sdss3.org/sas/dr10/boss/lss/).\n",
      "\n",
      "### Catalogs\n",
      "\n",
      "There are several catalogs available. Most of the names are self-explanatory, except for the ones we are going to use! These are:\n",
      "\n",
      "   * galaxy_DR10v8_CMASS_North.fits.gz\n",
      "   * galaxy_DR10v8_CMASS_South.fits.gz\n",
      "   * galaxy_DR10v8_LOWZ_North.fits.gz\n",
      "   * galaxy_DR10v8_LOWZ_South.fits.gz\n",
      "\n",
      "These are catalogs of spectroscopic data from the CMASS and LOWZ samples of the DR10 release **with accept and reject masks already applied**. A list of these can be found in the mask section below.\n",
      "\n",
      "### Weights\n",
      "\n",
      "There is a series of weights that must be applied to each galaxy when calculating clustering statistics. They are given as columns in the galaxy catalogs. Their description and instructions on how to apply them are given in [Anderson et al. 2012](http://mnras.oxfordjournals.org/content/427/4/3435), in particular eq. (18):\n",
      "\n",
      "$w_{\\rm tot} = w_{\\rm FKP} w_{\\rm sys} (w_{\\rm rf} + w_{\\rm cp} -1)$\n",
      "\n",
      "For a discussion on how to calculate the Poisson shot noise for weighted galaxies, see [Gil-Mar\u00edn et al. 2014b](http://arxiv.org/abs/1407.5668).\n",
      "\n",
      "### Accept and reject masks\n",
      "\n",
      "Accept and reject masks are MANGLE polygon files with accept/reject pixels. A detailed description of what they are and how to use them can be found in [this tutorial](https://www.sdss3.org/dr10/tutorials/lss_galaxy.php). The masks used in this analysis are (**cross-check this list**):\n",
      "\n",
      "**Accept masks:**\n",
      "\n",
      "   * mask_DR10v8_CMASS_North.ply\n",
      "   * mask_DR10v8_CMASS_South.ply\n",
      "   * mask_DR10v8_LOWZ_North.ply\n",
      "   * mask_DR10v8_LOWZ_South.ply\n",
      "\n",
      "These masks have a weight column that gives each sector completeness, as described in [Anderson et al. 2012](http://mnras.oxfordjournals.org/content/427/4/3435). Each polygon belongs to a sector, with an unique completeness value.\n",
      "\n",
      "**Reject masks:**\n",
      "\n",
      "   * badfield_mask_postprocess_pixs8.ply\n",
      "   * badfield_mask_unphot-ugriz_pix.ply\n",
      "   * bright_object_mask_rykoff_pix.ply\n",
      "   * bright_star_mask.ply\n",
      "   * bright_star_mask_pix.ply\n",
      "   * centerpost_mask.ply\n",
      "   * collision_priority_mask.ply\n",
      "\n",
      "The masks are not needed for generating the galaxy catalogs, since there are masked catalogs already available, but they are needed for generating a healpix mask map. *The main task we have is to translate the information in these masks from SDSS polygons and sectors to healpix pixels in a coherent manner.*"
     ]
    },
    {
     "cell_type": "code",
     "collapsed": false,
     "input": [],
     "language": "python",
     "metadata": {},
     "outputs": []
    }
   ],
   "metadata": {}
  }
 ]
}